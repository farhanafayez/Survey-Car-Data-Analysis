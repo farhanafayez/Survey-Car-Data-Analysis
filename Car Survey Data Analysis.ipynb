{
 "cells": [
  {
   "cell_type": "code",
   "execution_count": 2,
   "metadata": {},
   "outputs": [],
   "source": [
    "# importing all dependencies\n",
    "%matplotlib inline\n",
    "%config InlineBackend.figure_format = 'retina'\n",
    "import numpy as np\n",
    "import pandas as pd\n",
    "from sklearn import model_selection\n",
    "import seaborn as sns"
   ]
  },
  {
   "cell_type": "code",
   "execution_count": 3,
   "metadata": {},
   "outputs": [
    {
     "data": {
      "text/html": [
       "<div>\n",
       "<table border=\"1\" class=\"dataframe\">\n",
       "  <thead>\n",
       "    <tr style=\"text-align: right;\">\n",
       "      <th></th>\n",
       "      <th>respondent_id</th>\n",
       "      <th>gender</th>\n",
       "      <th>age</th>\n",
       "      <th>brand1</th>\n",
       "      <th>brand2</th>\n",
       "      <th>brand3</th>\n",
       "      <th>brand4</th>\n",
       "      <th>brand5</th>\n",
       "      <th>brand6</th>\n",
       "      <th>brand7</th>\n",
       "      <th>brand8</th>\n",
       "      <th>brand9</th>\n",
       "      <th>brand10</th>\n",
       "    </tr>\n",
       "  </thead>\n",
       "  <tbody>\n",
       "    <tr>\n",
       "      <th>0</th>\n",
       "      <td>1</td>\n",
       "      <td>Male</td>\n",
       "      <td>45.0</td>\n",
       "      <td>VW</td>\n",
       "      <td>Mercedes</td>\n",
       "      <td>Audi</td>\n",
       "      <td>Hyundai</td>\n",
       "      <td>Daewoo</td>\n",
       "      <td>NaN</td>\n",
       "      <td>NaN</td>\n",
       "      <td>NaN</td>\n",
       "      <td>NaN</td>\n",
       "      <td>NaN</td>\n",
       "    </tr>\n",
       "    <tr>\n",
       "      <th>1</th>\n",
       "      <td>2</td>\n",
       "      <td>Male</td>\n",
       "      <td>35.0</td>\n",
       "      <td>Porsche</td>\n",
       "      <td>BMW</td>\n",
       "      <td>VW</td>\n",
       "      <td>NaN</td>\n",
       "      <td>NaN</td>\n",
       "      <td>NaN</td>\n",
       "      <td>NaN</td>\n",
       "      <td>NaN</td>\n",
       "      <td>NaN</td>\n",
       "      <td>NaN</td>\n",
       "    </tr>\n",
       "    <tr>\n",
       "      <th>2</th>\n",
       "      <td>3</td>\n",
       "      <td>Female</td>\n",
       "      <td>40.0</td>\n",
       "      <td>Audi</td>\n",
       "      <td>Honda</td>\n",
       "      <td>Toyota</td>\n",
       "      <td>Renault</td>\n",
       "      <td>NaN</td>\n",
       "      <td>NaN</td>\n",
       "      <td>NaN</td>\n",
       "      <td>NaN</td>\n",
       "      <td>NaN</td>\n",
       "      <td>NaN</td>\n",
       "    </tr>\n",
       "    <tr>\n",
       "      <th>3</th>\n",
       "      <td>4</td>\n",
       "      <td>Female</td>\n",
       "      <td>46.0</td>\n",
       "      <td>Daewoo</td>\n",
       "      <td>Opel</td>\n",
       "      <td>VW</td>\n",
       "      <td>Chrysler</td>\n",
       "      <td>BMW</td>\n",
       "      <td>NaN</td>\n",
       "      <td>NaN</td>\n",
       "      <td>NaN</td>\n",
       "      <td>NaN</td>\n",
       "      <td>NaN</td>\n",
       "    </tr>\n",
       "    <tr>\n",
       "      <th>4</th>\n",
       "      <td>5</td>\n",
       "      <td>Female</td>\n",
       "      <td>30.0</td>\n",
       "      <td>Lexus</td>\n",
       "      <td>Volvo</td>\n",
       "      <td>NaN</td>\n",
       "      <td>NaN</td>\n",
       "      <td>NaN</td>\n",
       "      <td>NaN</td>\n",
       "      <td>NaN</td>\n",
       "      <td>NaN</td>\n",
       "      <td>NaN</td>\n",
       "      <td>NaN</td>\n",
       "    </tr>\n",
       "  </tbody>\n",
       "</table>\n",
       "</div>"
      ],
      "text/plain": [
       "   respondent_id  gender   age   brand1    brand2  brand3    brand4  brand5  \\\n",
       "0              1    Male  45.0       VW  Mercedes    Audi   Hyundai  Daewoo   \n",
       "1              2    Male  35.0  Porsche       BMW      VW       NaN     NaN   \n",
       "2              3  Female  40.0     Audi     Honda  Toyota   Renault     NaN   \n",
       "3              4  Female  46.0   Daewoo      Opel      VW  Chrysler     BMW   \n",
       "4              5  Female  30.0    Lexus     Volvo     NaN       NaN     NaN   \n",
       "\n",
       "  brand6 brand7 brand8 brand9 brand10  \n",
       "0    NaN    NaN    NaN    NaN     NaN  \n",
       "1    NaN    NaN    NaN    NaN     NaN  \n",
       "2    NaN    NaN    NaN    NaN     NaN  \n",
       "3    NaN    NaN    NaN    NaN     NaN  \n",
       "4    NaN    NaN    NaN    NaN     NaN  "
      ]
     },
     "execution_count": 3,
     "metadata": {},
     "output_type": "execute_result"
    }
   ],
   "source": [
    "# Lets see the data provided by wolt.\n",
    "dataframe = pd.read_csv('data_exercise_01.csv')\n",
    "dataframe.head(5)"
   ]
  },
  {
   "cell_type": "markdown",
   "metadata": {},
   "source": [
    "# Assignment 1"
   ]
  },
  {
   "cell_type": "markdown",
   "metadata": {},
   "source": [
    "Transform the wide source data into a tall format which has a record for each combination of respondent_id and brand. This data has to be saved into CSV.\n"
   ]
  },
  {
   "cell_type": "code",
   "execution_count": 4,
   "metadata": {},
   "outputs": [
    {
     "data": {
      "text/html": [
       "<div>\n",
       "<table border=\"1\" class=\"dataframe\">\n",
       "  <thead>\n",
       "    <tr style=\"text-align: right;\">\n",
       "      <th></th>\n",
       "      <th>respondent_id</th>\n",
       "      <th>brand1</th>\n",
       "      <th>brand2</th>\n",
       "      <th>brand3</th>\n",
       "      <th>brand4</th>\n",
       "      <th>brand5</th>\n",
       "      <th>brand6</th>\n",
       "      <th>brand7</th>\n",
       "      <th>brand8</th>\n",
       "      <th>brand9</th>\n",
       "      <th>brand10</th>\n",
       "    </tr>\n",
       "  </thead>\n",
       "  <tbody>\n",
       "    <tr>\n",
       "      <th>0</th>\n",
       "      <td>1</td>\n",
       "      <td>VW</td>\n",
       "      <td>Mercedes</td>\n",
       "      <td>Audi</td>\n",
       "      <td>Hyundai</td>\n",
       "      <td>Daewoo</td>\n",
       "      <td>NaN</td>\n",
       "      <td>NaN</td>\n",
       "      <td>NaN</td>\n",
       "      <td>NaN</td>\n",
       "      <td>NaN</td>\n",
       "    </tr>\n",
       "    <tr>\n",
       "      <th>1</th>\n",
       "      <td>2</td>\n",
       "      <td>Porsche</td>\n",
       "      <td>BMW</td>\n",
       "      <td>VW</td>\n",
       "      <td>NaN</td>\n",
       "      <td>NaN</td>\n",
       "      <td>NaN</td>\n",
       "      <td>NaN</td>\n",
       "      <td>NaN</td>\n",
       "      <td>NaN</td>\n",
       "      <td>NaN</td>\n",
       "    </tr>\n",
       "    <tr>\n",
       "      <th>2</th>\n",
       "      <td>3</td>\n",
       "      <td>Audi</td>\n",
       "      <td>Honda</td>\n",
       "      <td>Toyota</td>\n",
       "      <td>Renault</td>\n",
       "      <td>NaN</td>\n",
       "      <td>NaN</td>\n",
       "      <td>NaN</td>\n",
       "      <td>NaN</td>\n",
       "      <td>NaN</td>\n",
       "      <td>NaN</td>\n",
       "    </tr>\n",
       "    <tr>\n",
       "      <th>3</th>\n",
       "      <td>4</td>\n",
       "      <td>Daewoo</td>\n",
       "      <td>Opel</td>\n",
       "      <td>VW</td>\n",
       "      <td>Chrysler</td>\n",
       "      <td>BMW</td>\n",
       "      <td>NaN</td>\n",
       "      <td>NaN</td>\n",
       "      <td>NaN</td>\n",
       "      <td>NaN</td>\n",
       "      <td>NaN</td>\n",
       "    </tr>\n",
       "    <tr>\n",
       "      <th>4</th>\n",
       "      <td>5</td>\n",
       "      <td>Lexus</td>\n",
       "      <td>Volvo</td>\n",
       "      <td>NaN</td>\n",
       "      <td>NaN</td>\n",
       "      <td>NaN</td>\n",
       "      <td>NaN</td>\n",
       "      <td>NaN</td>\n",
       "      <td>NaN</td>\n",
       "      <td>NaN</td>\n",
       "      <td>NaN</td>\n",
       "    </tr>\n",
       "  </tbody>\n",
       "</table>\n",
       "</div>"
      ],
      "text/plain": [
       "   respondent_id   brand1    brand2  brand3    brand4  brand5 brand6 brand7  \\\n",
       "0              1       VW  Mercedes    Audi   Hyundai  Daewoo    NaN    NaN   \n",
       "1              2  Porsche       BMW      VW       NaN     NaN    NaN    NaN   \n",
       "2              3     Audi     Honda  Toyota   Renault     NaN    NaN    NaN   \n",
       "3              4   Daewoo      Opel      VW  Chrysler     BMW    NaN    NaN   \n",
       "4              5    Lexus     Volvo     NaN       NaN     NaN    NaN    NaN   \n",
       "\n",
       "  brand8 brand9 brand10  \n",
       "0    NaN    NaN     NaN  \n",
       "1    NaN    NaN     NaN  \n",
       "2    NaN    NaN     NaN  \n",
       "3    NaN    NaN     NaN  \n",
       "4    NaN    NaN     NaN  "
      ]
     },
     "execution_count": 4,
     "metadata": {},
     "output_type": "execute_result"
    }
   ],
   "source": [
    "# lets remove the unwanted fields\n",
    "assignment1 = dataframe\n",
    "assignment1 = assignment1.drop([\"gender\", \"age\"], axis=1)\n",
    "assignment1.head()"
   ]
  },
  {
   "cell_type": "code",
   "execution_count": 5,
   "metadata": {},
   "outputs": [],
   "source": [
    "result = assignment1.set_index(\"respondent_id\").stack().reset_index(-1, drop=True)\n",
    "result.to_csv('data1.csv')"
   ]
  },
  {
   "cell_type": "code",
   "execution_count": 6,
   "metadata": {},
   "outputs": [
    {
     "data": {
      "text/html": [
       "<div>\n",
       "<table border=\"1\" class=\"dataframe\">\n",
       "  <thead>\n",
       "    <tr style=\"text-align: right;\">\n",
       "      <th></th>\n",
       "      <th>1</th>\n",
       "      <th>VW</th>\n",
       "    </tr>\n",
       "  </thead>\n",
       "  <tbody>\n",
       "    <tr>\n",
       "      <th>0</th>\n",
       "      <td>1</td>\n",
       "      <td>Mercedes</td>\n",
       "    </tr>\n",
       "    <tr>\n",
       "      <th>1</th>\n",
       "      <td>1</td>\n",
       "      <td>Audi</td>\n",
       "    </tr>\n",
       "    <tr>\n",
       "      <th>2</th>\n",
       "      <td>1</td>\n",
       "      <td>Hyundai</td>\n",
       "    </tr>\n",
       "    <tr>\n",
       "      <th>3</th>\n",
       "      <td>1</td>\n",
       "      <td>Daewoo</td>\n",
       "    </tr>\n",
       "    <tr>\n",
       "      <th>4</th>\n",
       "      <td>2</td>\n",
       "      <td>Porsche</td>\n",
       "    </tr>\n",
       "  </tbody>\n",
       "</table>\n",
       "</div>"
      ],
      "text/plain": [
       "   1        VW\n",
       "0  1  Mercedes\n",
       "1  1      Audi\n",
       "2  1   Hyundai\n",
       "3  1    Daewoo\n",
       "4  2   Porsche"
      ]
     },
     "execution_count": 6,
     "metadata": {},
     "output_type": "execute_result"
    }
   ],
   "source": [
    "#Lets view the tall version\n",
    "tall = pd.read_csv('data1.csv')\n",
    "tall.head()"
   ]
  },
  {
   "cell_type": "markdown",
   "metadata": {},
   "source": [
    "Assignment 1 looks like its complete."
   ]
  },
  {
   "cell_type": "markdown",
   "metadata": {},
   "source": [
    "# Assignment 2"
   ]
  },
  {
   "cell_type": "code",
   "execution_count": 7,
   "metadata": {},
   "outputs": [
    {
     "data": {
      "text/html": [
       "<div>\n",
       "<table border=\"1\" class=\"dataframe\">\n",
       "  <thead>\n",
       "    <tr style=\"text-align: right;\">\n",
       "      <th></th>\n",
       "      <th>respondent_id</th>\n",
       "      <th>gender</th>\n",
       "      <th>age</th>\n",
       "      <th>brand1</th>\n",
       "      <th>brand2</th>\n",
       "      <th>brand3</th>\n",
       "      <th>brand4</th>\n",
       "      <th>brand5</th>\n",
       "      <th>brand6</th>\n",
       "      <th>brand7</th>\n",
       "      <th>brand8</th>\n",
       "      <th>brand9</th>\n",
       "      <th>brand10</th>\n",
       "    </tr>\n",
       "  </thead>\n",
       "  <tbody>\n",
       "    <tr>\n",
       "      <th>0</th>\n",
       "      <td>1</td>\n",
       "      <td>Male</td>\n",
       "      <td>45.0</td>\n",
       "      <td>VW</td>\n",
       "      <td>Mercedes</td>\n",
       "      <td>Audi</td>\n",
       "      <td>Hyundai</td>\n",
       "      <td>Daewoo</td>\n",
       "      <td>NaN</td>\n",
       "      <td>NaN</td>\n",
       "      <td>NaN</td>\n",
       "      <td>NaN</td>\n",
       "      <td>NaN</td>\n",
       "    </tr>\n",
       "    <tr>\n",
       "      <th>1</th>\n",
       "      <td>2</td>\n",
       "      <td>Male</td>\n",
       "      <td>35.0</td>\n",
       "      <td>Porsche</td>\n",
       "      <td>BMW</td>\n",
       "      <td>VW</td>\n",
       "      <td>NaN</td>\n",
       "      <td>NaN</td>\n",
       "      <td>NaN</td>\n",
       "      <td>NaN</td>\n",
       "      <td>NaN</td>\n",
       "      <td>NaN</td>\n",
       "      <td>NaN</td>\n",
       "    </tr>\n",
       "    <tr>\n",
       "      <th>2</th>\n",
       "      <td>3</td>\n",
       "      <td>Female</td>\n",
       "      <td>40.0</td>\n",
       "      <td>Audi</td>\n",
       "      <td>Honda</td>\n",
       "      <td>Toyota</td>\n",
       "      <td>Renault</td>\n",
       "      <td>NaN</td>\n",
       "      <td>NaN</td>\n",
       "      <td>NaN</td>\n",
       "      <td>NaN</td>\n",
       "      <td>NaN</td>\n",
       "      <td>NaN</td>\n",
       "    </tr>\n",
       "    <tr>\n",
       "      <th>3</th>\n",
       "      <td>4</td>\n",
       "      <td>Female</td>\n",
       "      <td>46.0</td>\n",
       "      <td>Daewoo</td>\n",
       "      <td>Opel</td>\n",
       "      <td>VW</td>\n",
       "      <td>Chrysler</td>\n",
       "      <td>BMW</td>\n",
       "      <td>NaN</td>\n",
       "      <td>NaN</td>\n",
       "      <td>NaN</td>\n",
       "      <td>NaN</td>\n",
       "      <td>NaN</td>\n",
       "    </tr>\n",
       "    <tr>\n",
       "      <th>4</th>\n",
       "      <td>5</td>\n",
       "      <td>Female</td>\n",
       "      <td>30.0</td>\n",
       "      <td>Lexus</td>\n",
       "      <td>Volvo</td>\n",
       "      <td>NaN</td>\n",
       "      <td>NaN</td>\n",
       "      <td>NaN</td>\n",
       "      <td>NaN</td>\n",
       "      <td>NaN</td>\n",
       "      <td>NaN</td>\n",
       "      <td>NaN</td>\n",
       "      <td>NaN</td>\n",
       "    </tr>\n",
       "  </tbody>\n",
       "</table>\n",
       "</div>"
      ],
      "text/plain": [
       "   respondent_id  gender   age   brand1    brand2  brand3    brand4  brand5  \\\n",
       "0              1    Male  45.0       VW  Mercedes    Audi   Hyundai  Daewoo   \n",
       "1              2    Male  35.0  Porsche       BMW      VW       NaN     NaN   \n",
       "2              3  Female  40.0     Audi     Honda  Toyota   Renault     NaN   \n",
       "3              4  Female  46.0   Daewoo      Opel      VW  Chrysler     BMW   \n",
       "4              5  Female  30.0    Lexus     Volvo     NaN       NaN     NaN   \n",
       "\n",
       "  brand6 brand7 brand8 brand9 brand10  \n",
       "0    NaN    NaN    NaN    NaN     NaN  \n",
       "1    NaN    NaN    NaN    NaN     NaN  \n",
       "2    NaN    NaN    NaN    NaN     NaN  \n",
       "3    NaN    NaN    NaN    NaN     NaN  \n",
       "4    NaN    NaN    NaN    NaN     NaN  "
      ]
     },
     "execution_count": 7,
     "metadata": {},
     "output_type": "execute_result"
    }
   ],
   "source": [
    "#lets see if our dataframe is still alive\n",
    "dataframe.head(5)"
   ]
  },
  {
   "cell_type": "code",
   "execution_count": 8,
   "metadata": {},
   "outputs": [
    {
     "data": {
      "text/html": [
       "<div>\n",
       "<table border=\"1\" class=\"dataframe\">\n",
       "  <thead>\n",
       "    <tr style=\"text-align: right;\">\n",
       "      <th></th>\n",
       "      <th>respondent_id</th>\n",
       "      <th>age</th>\n",
       "    </tr>\n",
       "  </thead>\n",
       "  <tbody>\n",
       "    <tr>\n",
       "      <th>count</th>\n",
       "      <td>20000.000000</td>\n",
       "      <td>17999.000000</td>\n",
       "    </tr>\n",
       "    <tr>\n",
       "      <th>mean</th>\n",
       "      <td>10000.500000</td>\n",
       "      <td>40.070504</td>\n",
       "    </tr>\n",
       "    <tr>\n",
       "      <th>std</th>\n",
       "      <td>5773.647028</td>\n",
       "      <td>9.935752</td>\n",
       "    </tr>\n",
       "    <tr>\n",
       "      <th>min</th>\n",
       "      <td>1.000000</td>\n",
       "      <td>18.000000</td>\n",
       "    </tr>\n",
       "    <tr>\n",
       "      <th>25%</th>\n",
       "      <td>5000.750000</td>\n",
       "      <td>33.000000</td>\n",
       "    </tr>\n",
       "    <tr>\n",
       "      <th>50%</th>\n",
       "      <td>10000.500000</td>\n",
       "      <td>40.000000</td>\n",
       "    </tr>\n",
       "    <tr>\n",
       "      <th>75%</th>\n",
       "      <td>15000.250000</td>\n",
       "      <td>47.000000</td>\n",
       "    </tr>\n",
       "    <tr>\n",
       "      <th>max</th>\n",
       "      <td>20000.000000</td>\n",
       "      <td>80.000000</td>\n",
       "    </tr>\n",
       "  </tbody>\n",
       "</table>\n",
       "</div>"
      ],
      "text/plain": [
       "       respondent_id           age\n",
       "count   20000.000000  17999.000000\n",
       "mean    10000.500000     40.070504\n",
       "std      5773.647028      9.935752\n",
       "min         1.000000     18.000000\n",
       "25%      5000.750000     33.000000\n",
       "50%     10000.500000     40.000000\n",
       "75%     15000.250000     47.000000\n",
       "max     20000.000000     80.000000"
      ]
     },
     "execution_count": 8,
     "metadata": {},
     "output_type": "execute_result"
    }
   ],
   "source": [
    "assignment2 = dataframe\n",
    "# Lets see how the data is described\n",
    "assignment2.describe()"
   ]
  },
  {
   "cell_type": "code",
   "execution_count": 9,
   "metadata": {},
   "outputs": [
    {
     "data": {
      "text/plain": [
       "VW          2633\n",
       "BMW         1790\n",
       "Audi        1370\n",
       "Fiat        1360\n",
       "Opel        1309\n",
       "Ford        1296\n",
       "Honda       1083\n",
       "Lexus       1062\n",
       "Volvo       1046\n",
       "Dodge       1034\n",
       "Daewoo       888\n",
       "Toyota       870\n",
       "Hyundai      760\n",
       "Renault      758\n",
       "Porsche      744\n",
       "Peugeot      729\n",
       "Chrysler     634\n",
       "Mercedes     634\n",
       "Name: brand1, dtype: int64"
      ]
     },
     "execution_count": 9,
     "metadata": {},
     "output_type": "execute_result"
    }
   ],
   "source": [
    "# lets see what are the different car brands for brand1\n",
    "assignment2['brand1'].value_counts()"
   ]
  },
  {
   "cell_type": "code",
   "execution_count": 10,
   "metadata": {},
   "outputs": [
    {
     "data": {
      "text/plain": [
       "VW          2221\n",
       "BMW         1561\n",
       "Ford        1249\n",
       "Opel        1220\n",
       "Fiat        1218\n",
       "Audi        1198\n",
       "Lexus       1007\n",
       "Honda        997\n",
       "Dodge        965\n",
       "Volvo        951\n",
       "Toyota       844\n",
       "Daewoo       829\n",
       "Peugeot      731\n",
       "Renault      716\n",
       "Porsche      702\n",
       "Hyundai      695\n",
       "Mercedes     648\n",
       "Chrysler     631\n",
       "Name: brand2, dtype: int64"
      ]
     },
     "execution_count": 10,
     "metadata": {},
     "output_type": "execute_result"
    }
   ],
   "source": [
    "# Now for brand2\n",
    "assignment2['brand2'].value_counts()"
   ]
  },
  {
   "cell_type": "markdown",
   "metadata": {},
   "source": [
    "looks like people normally guess VM and BMW first"
   ]
  },
  {
   "cell_type": "code",
   "execution_count": 11,
   "metadata": {},
   "outputs": [
    {
     "name": "stdout",
     "output_type": "stream",
     "text": [
      "(' mean age ', 40.07050391688427)\n",
      "(' max age ', 18.0)\n",
      "(' min age ', 80.0)\n",
      "(' std age ', 9.9357518556287623)\n"
     ]
    }
   ],
   "source": [
    "# lets look at the age distribution\n",
    "print(' mean age ' , assignment2.age.mean())\n",
    "print(' max age ' , assignment2.age.min())\n",
    "print(' min age ' , assignment2.age.max())\n",
    "print(' std age ' , assignment2.age.std())"
   ]
  },
  {
   "cell_type": "code",
   "execution_count": 12,
   "metadata": {},
   "outputs": [
    {
     "data": {
      "image/png": "[encoded data removed]",
      "text/plain": [
       "<matplotlib.figure.Figure at 0x843c710>"
      ]
     },
     "metadata": {
      "image/png": {
       "height": 276,
       "width": 274
      }
     },
     "output_type": "display_data"
    }
   ],
   "source": [
    "#lets check out the median age in this group\n",
    "sns.factorplot(\"age\", data=assignment2, palette=\"PuBu_d\", estimator=np.median);\n"
   ]
  },
  {
   "cell_type": "markdown",
   "metadata": {},
   "source": [
    "Plotting age by brand - Since there is wide range of age it gets squashed."
   ]
  },
  {
   "cell_type": "code",
   "execution_count": 16,
   "metadata": {},
   "outputs": [
    {
     "data": {
      "text/plain": [
       "<matplotlib.axes._subplots.AxesSubplot at 0xcaae198>"
      ]
     },
     "execution_count": 16,
     "metadata": {},
     "output_type": "execute_result"
    },
    {
     "data": {
      "image/png": "[encoded data removed]",
      "text/plain": [
       "<matplotlib.figure.Figure at 0xcacf320>"
      ]
     },
     "metadata": {
      "image/png": {
       "height": 343,
       "width": 504
      }
     },
     "output_type": "display_data"
    }
   ],
   "source": [
    "sns.countplot(x=\"age\", hue=\"brand1\", data=assignment2)"
   ]
  },
  {
   "cell_type": "code",
   "execution_count": 18,
   "metadata": {},
   "outputs": [
    {
     "data": {
      "image/png": "[encoded data removed]",
      "text/plain": [
       "<matplotlib.figure.Figure at 0xcd2e048>"
      ]
     },
     "metadata": {
      "image/png": {
       "height": 343,
       "width": 487
      }
     },
     "output_type": "display_data"
    }
   ],
   "source": [
    "assignment2.fillna(value='0', inplace=True)\n",
    "sns.distplot(assignment2[\"age\"].astype(int));"
   ]
  },
  {
   "cell_type": "markdown",
   "metadata": {},
   "source": [
    "The zero shows crazy amount of Na values but here above chart is the age distribuation."
   ]
  },
  {
   "cell_type": "markdown",
   "metadata": {},
   "source": [
    "The Graph above show age distribution with car recalls."
   ]
  },
  {
   "cell_type": "markdown",
   "metadata": {},
   "source": [
    "Alright! Lets see how many respondent recalled how many brands"
   ]
  },
  {
   "cell_type": "code",
   "execution_count": 19,
   "metadata": {},
   "outputs": [],
   "source": [
    "df = pd.DataFrame()\n",
    "for index, row in assignment2.iterrows():\n",
    "    recall = 0\n",
    "    if(row[3] != '0'):\n",
    "        recall += 1\n",
    "    if(row[4] != '0'):\n",
    "        recall += 1\n",
    "    if(row[5] != '0'):\n",
    "        recall += 1\n",
    "    if(row[6] != '0'):\n",
    "        recall += 1\n",
    "    if(row[7] != '0'):\n",
    "        recall += 1\n",
    "    if(row[8] != '0'):\n",
    "        recall += 1\n",
    "    if(row[9] != '0'):\n",
    "        recall += 1\n",
    "    if(row[10] != '0'):\n",
    "        recall += 1\n",
    "    if(row[11] != '0'):\n",
    "        recall += 1\n",
    "    if(row[12] != '0'):\n",
    "        recall += 1\n",
    "    df = df.append({'respondent': row[0],'age':row[2],'Recall No': recall, 'Gender' : row[1]}, ignore_index=True)"
   ]
  },
  {
   "cell_type": "code",
   "execution_count": 20,
   "metadata": {},
   "outputs": [
    {
     "data": {
      "text/html": [
       "<div>\n",
       "<table border=\"1\" class=\"dataframe\">\n",
       "  <thead>\n",
       "    <tr style=\"text-align: right;\">\n",
       "      <th></th>\n",
       "      <th>Gender</th>\n",
       "      <th>Recall No</th>\n",
       "      <th>age</th>\n",
       "      <th>respondent</th>\n",
       "    </tr>\n",
       "  </thead>\n",
       "  <tbody>\n",
       "    <tr>\n",
       "      <th>0</th>\n",
       "      <td>Male</td>\n",
       "      <td>5.0</td>\n",
       "      <td>45</td>\n",
       "      <td>1.0</td>\n",
       "    </tr>\n",
       "    <tr>\n",
       "      <th>1</th>\n",
       "      <td>Male</td>\n",
       "      <td>3.0</td>\n",
       "      <td>35</td>\n",
       "      <td>2.0</td>\n",
       "    </tr>\n",
       "    <tr>\n",
       "      <th>2</th>\n",
       "      <td>Female</td>\n",
       "      <td>4.0</td>\n",
       "      <td>40</td>\n",
       "      <td>3.0</td>\n",
       "    </tr>\n",
       "    <tr>\n",
       "      <th>3</th>\n",
       "      <td>Female</td>\n",
       "      <td>5.0</td>\n",
       "      <td>46</td>\n",
       "      <td>4.0</td>\n",
       "    </tr>\n",
       "    <tr>\n",
       "      <th>4</th>\n",
       "      <td>Female</td>\n",
       "      <td>2.0</td>\n",
       "      <td>30</td>\n",
       "      <td>5.0</td>\n",
       "    </tr>\n",
       "  </tbody>\n",
       "</table>\n",
       "</div>"
      ],
      "text/plain": [
       "   Gender  Recall No age  respondent\n",
       "0    Male        5.0  45         1.0\n",
       "1    Male        3.0  35         2.0\n",
       "2  Female        4.0  40         3.0\n",
       "3  Female        5.0  46         4.0\n",
       "4  Female        2.0  30         5.0"
      ]
     },
     "execution_count": 20,
     "metadata": {},
     "output_type": "execute_result"
    }
   ],
   "source": [
    "df.head()"
   ]
  },
  {
   "cell_type": "code",
   "execution_count": 25,
   "metadata": {},
   "outputs": [
    {
     "data": {
      "text/plain": [
       "<matplotlib.axes._subplots.AxesSubplot at 0xeb919e8>"
      ]
     },
     "execution_count": 25,
     "metadata": {},
     "output_type": "execute_result"
    },
    {
     "data": {
      "image/png": "[encoded data removed]",
      "text/plain": [
       "<matplotlib.figure.Figure at 0xda829b0>"
      ]
     },
     "metadata": {
      "image/png": {
       "height": 343,
       "width": 487
      }
     },
     "output_type": "display_data"
    }
   ],
   "source": [
    "sns.barplot(x=\"respondent\", y=\"Recall No\", hue=\"age\", data=df.head(10))"
   ]
  },
  {
   "cell_type": "markdown",
   "metadata": {},
   "source": [
    "So looks like most of the people in age 40 or something can recall more stuff. Weird..."
   ]
  },
  {
   "cell_type": "code",
   "execution_count": 26,
   "metadata": {},
   "outputs": [
    {
     "data": {
      "text/html": [
       "<div>\n",
       "<table border=\"1\" class=\"dataframe\">\n",
       "  <thead>\n",
       "    <tr style=\"text-align: right;\">\n",
       "      <th></th>\n",
       "      <th>Gender</th>\n",
       "      <th>Recall No</th>\n",
       "      <th>age</th>\n",
       "      <th>respondent</th>\n",
       "    </tr>\n",
       "  </thead>\n",
       "  <tbody>\n",
       "    <tr>\n",
       "      <th>0</th>\n",
       "      <td>1</td>\n",
       "      <td>5.0</td>\n",
       "      <td>45.0</td>\n",
       "      <td>1.0</td>\n",
       "    </tr>\n",
       "    <tr>\n",
       "      <th>1</th>\n",
       "      <td>1</td>\n",
       "      <td>3.0</td>\n",
       "      <td>35.0</td>\n",
       "      <td>2.0</td>\n",
       "    </tr>\n",
       "    <tr>\n",
       "      <th>2</th>\n",
       "      <td>0</td>\n",
       "      <td>4.0</td>\n",
       "      <td>40.0</td>\n",
       "      <td>3.0</td>\n",
       "    </tr>\n",
       "    <tr>\n",
       "      <th>3</th>\n",
       "      <td>0</td>\n",
       "      <td>5.0</td>\n",
       "      <td>46.0</td>\n",
       "      <td>4.0</td>\n",
       "    </tr>\n",
       "    <tr>\n",
       "      <th>4</th>\n",
       "      <td>0</td>\n",
       "      <td>2.0</td>\n",
       "      <td>30.0</td>\n",
       "      <td>5.0</td>\n",
       "    </tr>\n",
       "  </tbody>\n",
       "</table>\n",
       "</div>"
      ],
      "text/plain": [
       "  Gender  Recall No   age  respondent\n",
       "0      1        5.0  45.0         1.0\n",
       "1      1        3.0  35.0         2.0\n",
       "2      0        4.0  40.0         3.0\n",
       "3      0        5.0  46.0         4.0\n",
       "4      0        2.0  30.0         5.0"
      ]
     },
     "execution_count": 26,
     "metadata": {},
     "output_type": "execute_result"
    }
   ],
   "source": [
    "# changing everything to float and gender to 1 and 0\n",
    "df['Gender'].replace(['Male','Female'],[1,0],inplace=True) # 1[Male] 0[Femaile]\n",
    "df.age = df.age.astype(float)\n",
    "df.head()"
   ]
  },
  {
   "cell_type": "code",
   "execution_count": 27,
   "metadata": {
    "collapsed": true
   },
   "outputs": [],
   "source": [
    "# lets see how it looks for gender distribution against Recall No ( Notice that zero is not deleted from\n",
    "# table so there is alot of noise in this data, but I am still using it.)"
   ]
  },
  {
   "cell_type": "code",
   "execution_count": 29,
   "metadata": {
    "scrolled": true
   },
   "outputs": [
    {
     "data": {
      "text/plain": [
       "<matplotlib.axes._subplots.AxesSubplot at 0x12b2de48>"
      ]
     },
     "execution_count": 29,
     "metadata": {},
     "output_type": "execute_result"
    },
    {
     "data": {
      "image/png": "[encoded data removed]",
      "text/plain": [
       "<matplotlib.figure.Figure at 0xc5d3dd8>"
      ]
     },
     "metadata": {
      "image/png": {
       "height": 343,
       "width": 504
      }
     },
     "output_type": "display_data"
    }
   ],
   "source": [
    "sns.countplot(x=\"Recall No\", hue=\"Gender\", data=df)"
   ]
  },
  {
   "cell_type": "markdown",
   "metadata": {},
   "source": [
    "# Assignment 3 & 4"
   ]
  },
  {
   "cell_type": "code",
   "execution_count": 29,
   "metadata": {
    "collapsed": true
   },
   "outputs": [],
   "source": [
    "# This assignment I am not so sure about, but I will still proceed with the data.."
   ]
  },
  {
   "cell_type": "code",
   "execution_count": 30,
   "metadata": {},
   "outputs": [
    {
     "data": {
      "text/html": [
       "<div>\n",
       "<table border=\"1\" class=\"dataframe\">\n",
       "  <thead>\n",
       "    <tr style=\"text-align: right;\">\n",
       "      <th></th>\n",
       "      <th>Gender</th>\n",
       "      <th>Recall No</th>\n",
       "      <th>age</th>\n",
       "      <th>respondent</th>\n",
       "    </tr>\n",
       "  </thead>\n",
       "  <tbody>\n",
       "    <tr>\n",
       "      <th>0</th>\n",
       "      <td>1</td>\n",
       "      <td>5.0</td>\n",
       "      <td>45.0</td>\n",
       "      <td>1.0</td>\n",
       "    </tr>\n",
       "    <tr>\n",
       "      <th>1</th>\n",
       "      <td>1</td>\n",
       "      <td>3.0</td>\n",
       "      <td>35.0</td>\n",
       "      <td>2.0</td>\n",
       "    </tr>\n",
       "    <tr>\n",
       "      <th>2</th>\n",
       "      <td>0</td>\n",
       "      <td>4.0</td>\n",
       "      <td>40.0</td>\n",
       "      <td>3.0</td>\n",
       "    </tr>\n",
       "    <tr>\n",
       "      <th>3</th>\n",
       "      <td>0</td>\n",
       "      <td>5.0</td>\n",
       "      <td>46.0</td>\n",
       "      <td>4.0</td>\n",
       "    </tr>\n",
       "    <tr>\n",
       "      <th>4</th>\n",
       "      <td>0</td>\n",
       "      <td>2.0</td>\n",
       "      <td>30.0</td>\n",
       "      <td>5.0</td>\n",
       "    </tr>\n",
       "  </tbody>\n",
       "</table>\n",
       "</div>"
      ],
      "text/plain": [
       "  Gender  Recall No   age  respondent\n",
       "0      1        5.0  45.0         1.0\n",
       "1      1        3.0  35.0         2.0\n",
       "2      0        4.0  40.0         3.0\n",
       "3      0        5.0  46.0         4.0\n",
       "4      0        2.0  30.0         5.0"
      ]
     },
     "execution_count": 30,
     "metadata": {},
     "output_type": "execute_result"
    }
   ],
   "source": [
    "assignment3 = df\n",
    "assignment3.head()"
   ]
  },
  {
   "cell_type": "code",
   "execution_count": 31,
   "metadata": {},
   "outputs": [
    {
     "data": {
      "text/html": [
       "<div>\n",
       "<table border=\"1\" class=\"dataframe\">\n",
       "  <thead>\n",
       "    <tr style=\"text-align: right;\">\n",
       "      <th></th>\n",
       "      <th>Gender</th>\n",
       "      <th>Recall No</th>\n",
       "      <th>age</th>\n",
       "    </tr>\n",
       "  </thead>\n",
       "  <tbody>\n",
       "    <tr>\n",
       "      <th>0</th>\n",
       "      <td>1</td>\n",
       "      <td>5.0</td>\n",
       "      <td>45.0</td>\n",
       "    </tr>\n",
       "    <tr>\n",
       "      <th>1</th>\n",
       "      <td>1</td>\n",
       "      <td>3.0</td>\n",
       "      <td>35.0</td>\n",
       "    </tr>\n",
       "    <tr>\n",
       "      <th>2</th>\n",
       "      <td>0</td>\n",
       "      <td>4.0</td>\n",
       "      <td>40.0</td>\n",
       "    </tr>\n",
       "    <tr>\n",
       "      <th>3</th>\n",
       "      <td>0</td>\n",
       "      <td>5.0</td>\n",
       "      <td>46.0</td>\n",
       "    </tr>\n",
       "    <tr>\n",
       "      <th>4</th>\n",
       "      <td>0</td>\n",
       "      <td>2.0</td>\n",
       "      <td>30.0</td>\n",
       "    </tr>\n",
       "  </tbody>\n",
       "</table>\n",
       "</div>"
      ],
      "text/plain": [
       "  Gender  Recall No   age\n",
       "0      1        5.0  45.0\n",
       "1      1        3.0  35.0\n",
       "2      0        4.0  40.0\n",
       "3      0        5.0  46.0\n",
       "4      0        2.0  30.0"
      ]
     },
     "execution_count": 31,
     "metadata": {},
     "output_type": "execute_result"
    }
   ],
   "source": [
    "assignment3 = assignment3.drop(['respondent'], axis=1)\n",
    "assignment3.head()"
   ]
  },
  {
   "cell_type": "markdown",
   "metadata": {},
   "source": [
    "Lets mess around with the data...by playing a guessing game by seeing which age group recalls the highest brand."
   ]
  },
  {
   "cell_type": "markdown",
   "metadata": {},
   "source": [
    "# Neural Network ( Deep Learning)"
   ]
  },
  {
   "cell_type": "code",
   "execution_count": 43,
   "metadata": {
    "collapsed": true
   },
   "outputs": [],
   "source": [
    "# lets convert the data to vectors and pass it through a neural network."
   ]
  },
  {
   "cell_type": "code",
   "execution_count": 44,
   "metadata": {
    "scrolled": true
   },
   "outputs": [
    {
     "name": "stdout",
     "output_type": "stream",
     "text": [
      "inputX shape (20000, 1)\n",
      "inputY shape (20000, 1)\n"
     ]
    }
   ],
   "source": [
    "inputX = assignment3.loc[:, ['age']].as_matrix()\n",
    "inputY = assignment3.loc[:, ['Recall No']].as_matrix()\n",
    "print('inputX shape', inputX.shape)\n",
    "print('inputY shape', inputY.shape)"
   ]
  },
  {
   "cell_type": "code",
   "execution_count": 33,
   "metadata": {
    "collapsed": true
   },
   "outputs": [],
   "source": [
    "def NN():\n",
    "    net = tflearn.input_data(shape=[None, 1])\n",
    "    net = tflearn.fully_connected(net, 32)\n",
    "    net = tflearn.fully_connected(net, 32)\n",
    "    net = tflearn.fully_connected(net, 1, activation='softmax')\n",
    "    net = tflearn.regression(net , learning_rate=0.001)\n",
    "    model = tflearn.DNN(net)\n",
    "    return model"
   ]
  },
  {
   "cell_type": "code",
   "execution_count": 34,
   "metadata": {},
   "outputs": [
    {
     "name": "stdout",
     "output_type": "stream",
     "text": [
      "Training Step: 1439  | time: 0.631s\n",
      "| Adam | epoch: 008 | loss: 0.00000 - binary_acc: 0.0755 -- iter: 17900/18000\n",
      "Training Step: 1440  | time: 1.641s\n",
      "| Adam | epoch: 008 | loss: 0.00000 - binary_acc: 0.0755 | val_loss: 0.00000 - val_acc: 0.0765 -- iter: 18000/18000\n",
      "--\n"
     ]
    }
   ],
   "source": [
    "model = NN()\n",
    "# Training\n",
    "model.fit(inputX, inputY, validation_set=0.1, show_metric=True, batch_size=100, n_epoch=8)"
   ]
  },
  {
   "cell_type": "code",
   "execution_count": 37,
   "metadata": {},
   "outputs": [
    {
     "name": "stdout",
     "output_type": "stream",
     "text": [
      "0\n"
     ]
    }
   ],
   "source": [
    "pred = model.predict([inputX[5]])\n",
    "print(np.argmax(pred))"
   ]
  },
  {
   "cell_type": "markdown",
   "metadata": {},
   "source": [
    "So the neural network does a very bad job, since there was no labels to the test data, there was alot of noise.\n",
    "This all can be improved by getting more data to the set and getting labels or making my own labels."
   ]
  },
  {
   "cell_type": "markdown",
   "metadata": {
    "collapsed": true
   },
   "source": [
    "# Assignment 5\n"
   ]
  },
  {
   "cell_type": "markdown",
   "metadata": {},
   "source": [
    "This data could be more relevent if there were location and year of the servey was taken.\n",
    "If the data-set had labels which would help in predicting a outcome. \n",
    "Better example dataset - https://www.kaggle.com/wendykan/lending-club-loan-data\n"
   ]
  },
  {
   "cell_type": "code",
   "execution_count": null,
   "metadata": {
    "collapsed": true
   },
   "outputs": [],
   "source": []
  }
 ],
 "metadata": {
  "anaconda-cloud": {},
  "kernelspec": {
   "display_name": "Python [conda env:wolt]",
   "language": "python",
   "name": "conda-env-wolt-py"
  },
  "language_info": {
   "codemirror_mode": {
    "name": "ipython",
    "version": 2
   },
   "file_extension": ".py",
   "mimetype": "text/x-python",
   "name": "python",
   "nbconvert_exporter": "python",
   "pygments_lexer": "ipython2",
   "version": "2.7.13"
  }
 },
 "nbformat": 4,
 "nbformat_minor": 2
}
